{
 "cells": [
  {
   "cell_type": "markdown",
   "metadata": {},
   "source": [
    "# <center>PGP Data Science Engineering</center>\n",
    "## <center>Introduction to Programming – Mini Project:</center>\n"
   ]
  },
  {
   "cell_type": "markdown",
   "metadata": {},
   "source": [
    "### Problem 1:\n",
    "\n",
    "1. Write a program to calculate area of shapes. Your program should be capable of calculating the area of a square, rectangle, triangle and a circle. The user should be presented with options to select the shape. Based on which shape is chosed by the user, the program should ask for the appropriate input and print the resulting area on the screen.\n",
    "\n",
    "When the program is run, the screen should display something like this:\n",
    "\n",
    "**Which shape would you like to calculate the area for? Please enter the option number-**<br>\n",
    "**1. Square**<br>\n",
    "**2. Rectangle**<br>\n",
    "**3. Triangle**<br>\n",
    "**4. Circle**<br>\n",
    "**Enter Option: _**\n",
    "\n",
    "Say the user enters the option 1.\n",
    "\n",
    "**Please enter the length of a side: _**\n",
    "\n",
    "If the user enters a value of 5. The output should be:\n",
    "\n",
    "**The area of the square is 25**\n",
    "\n",
    "This program should indicate that the input is invalid if the user enters a character instead of a number as input. For instance if the user enters a value of ‘a’ instead of 5 in the previous example the program should prompt:\n",
    "\n",
    "**Invalid input, please enter a number: _**\n"
   ]
  },
  {
   "cell_type": "code",
   "execution_count": null,
   "metadata": {},
   "outputs": [
    {
     "name": "stdout",
     "output_type": "stream",
     "text": [
      "1 : square\n",
      "2 : rectangle\n",
      "3 : triangle\n",
      "4 : circle\n",
      "Which shape would you like to calculate the area for?1\n"
     ]
    }
   ],
   "source": [
    "A={1:'square',2:'rectangle',3:'triangle',4:'circle'}\n",
    "for k,v in A.items():\n",
    "    print(k,':',v)\n",
    "a=int(input(\"Which shape would you like to calculate the area for?\"))\n",
    "if(a==1):\n",
    "    c=input(\"Please enter the side of square:\")  \n",
    "    for i in c:\n",
    "        if(i=='1' or i=='2' or i=='3'or i=='4'or i=='5'or i=='6'or i=='7'or i=='8'or i=='9'or i=='0'):\n",
    "            x=int(c)\n",
    "            b=x**2\n",
    "            print('area of square is :',b)\n",
    "            break\n",
    "    else:\n",
    "        print('please enter number only')\n",
    "elif(a==2):\n",
    "    e=input(\"enter value of length of rect:\")\n",
    "    f=input(\"ente value of breath of rect\")\n",
    "    m=e+f\n",
    "    for i in e:\n",
    "            if(i=='1' or i=='2' or i=='3'or i=='4'or i=='5'or i=='6'or i=='7'or i=='8'or i=='9'or i=='0'):\n",
    "                    y=int(e)\n",
    "                    w=int(f)\n",
    "                    g=y*w\n",
    "                    print('area of reactangle is:',g)\n",
    "                    break\n",
    "    else:\n",
    "         print('please enter number only')\n",
    "elif(a==3):\n",
    "    h=input(\"enter value of base of tri\")\n",
    "    i=input('enter value of height of triangle')\n",
    "    q=h+i\n",
    "    for i in q:\n",
    "            if(i=='1' or i=='2' or i=='3'or i=='4'or i=='5'or i=='6'or i=='7'or i=='8'or i=='9'or i=='0'):\n",
    "                r=int(h)\n",
    "                o=int(i)\n",
    "                j=0.5*r*o\n",
    "                print('area of triangle is :',j)\n",
    "                break\n",
    "    else:\n",
    "         print('please enter number only')           \n",
    "elif(a==4):\n",
    "    k=input('enter value of radius of circle')\n",
    "    for i in k:\n",
    "            if(i=='1' or i=='2' or i=='3'or i=='4'or i=='5'or i=='6'or i=='7'or i=='8'or i=='9'or i=='0'):\n",
    "                    t=int(k)\n",
    "                    l=3.14*t*t\n",
    "                    print('area of circle is:',l)\n",
    "                    break\n",
    "    else:\n",
    "         print('please enter number only')                          \n",
    "elif(a<0 or a>4):\n",
    "    print('you are entering wrong key')"
   ]
  },
  {
   "cell_type": "raw",
   "metadata": {},
   "source": []
  },
  {
   "cell_type": "markdown",
   "metadata": {},
   "source": [
    "### Problem 2:\n",
    "\n",
    "Create and encrypter in python based on the ceaser cipher. It is a substitution cipher where each character of the original text is shifted a certain number characters in the alphabet. Write a function that would require 2 arguments – the input text to be encrypted and a key. For eg: Given the input text ‘hello’ and the key 3, the resulting encryted text would be ‘khoor’. Here you can see that every character in the string hello is shifted by 3 characters. ‘h’ has shifted to ‘k’, ‘e’ has shifted to ‘h’ and so on. If a key of 5 were used, the resulting string would be ‘mjqqt’. This function should be capable of ignoring any characters which are not alphabets. Th2 character ‘z’ entered b\n",
    "y the user for a key of 3 would result in ‘c’.\n",
    "\n",
    "Usage:<br>\n",
    "**encrypt(‘hello world!’, 3)**<br>\n",
    "**‘khoor zruog!’**\n",
    "\n",
    "Similarly create decrypter which can decode the encryted text when provided the input text and key\n",
    "\n",
    "Usage:<br>\n",
    "**decrypt(‘khoor zruog!’, 3)**<br>\n",
    "**‘hello world!’**\n",
    "\n",
    "For the sake of simplicity you can assume that input solely consists of lowercase alphabets, spaces and punctuation symbols. Numbers in the input text would also be ignored similar to symbols."
   ]
  },
  {
   "cell_type": "code",
   "execution_count": 2,
   "metadata": {},
   "outputs": [
    {
     "name": "stdout",
     "output_type": "stream",
     "text": [
      "enter word :hello world!\n",
      " khoor zruog!\n",
      "  hello world!\n"
     ]
    }
   ],
   "source": [
    "n=input(\"enter word :\")\n",
    "a='abcdefghijklmnopqrstuvwxyz'\n",
    "key=3\n",
    "encrypt=' '\n",
    "decrypt=' '\n",
    "for i in n:\n",
    "        if(i==\" \"):\n",
    "            encrypt+= ' '\n",
    "        elif(i=='!'):\n",
    "            encrypt+='!'\n",
    "            pass\n",
    "        else:    \n",
    "            position=a.find(i)\n",
    "            newposition=(position+key)%26\n",
    "            encrypt+=a[newposition]\n",
    "print(encrypt)\n",
    "for j in encrypt:\n",
    "    if(j==\" \"):\n",
    "        decrypt+=' '\n",
    "    elif(j=='!'):\n",
    "        decrypt+='!'\n",
    "    else:    \n",
    "        posi=a.find(j)\n",
    "        newposi=(posi-key)%26\n",
    "        decrypt+=a[newposi]\n",
    "print(decrypt)"
   ]
  },
  {
   "cell_type": "code",
   "execution_count": 34,
   "metadata": {},
   "outputs": [
    {
     "ename": "TypeError",
     "evalue": "'int' object is not iterable",
     "output_type": "error",
     "traceback": [
      "\u001b[1;31m---------------------------------------------------------------------------\u001b[0m",
      "\u001b[1;31mTypeError\u001b[0m                                 Traceback (most recent call last)",
      "\u001b[1;32m<ipython-input-34-2a6eeec9c36c>\u001b[0m in \u001b[0;36m<module>\u001b[1;34m\u001b[0m\n\u001b[1;32m----> 1\u001b[1;33m \u001b[0mprint\u001b[0m\u001b[1;33m(\u001b[0m\u001b[0msum\u001b[0m\u001b[1;33m(\u001b[0m\u001b[0ma\u001b[0m\u001b[1;33m,\u001b[0m\u001b[0mb\u001b[0m\u001b[1;33m)\u001b[0m\u001b[1;33m)\u001b[0m\u001b[1;33m\u001b[0m\u001b[1;33m\u001b[0m\u001b[0m\n\u001b[0m",
      "\u001b[1;31mTypeError\u001b[0m: 'int' object is not iterable"
     ]
    }
   ],
   "source": [
    "print(sum(a,b))\n"
   ]
  },
  {
   "cell_type": "code",
   "execution_count": null,
   "metadata": {},
   "outputs": [],
   "source": []
  }
 ],
 "metadata": {
  "kernelspec": {
   "display_name": "Python 3",
   "language": "python",
   "name": "python3"
  },
  "language_info": {
   "codemirror_mode": {
    "name": "ipython",
    "version": 3
   },
   "file_extension": ".py",
   "mimetype": "text/x-python",
   "name": "python",
   "nbconvert_exporter": "python",
   "pygments_lexer": "ipython3",
   "version": "3.7.4"
  }
 },
 "nbformat": 4,
 "nbformat_minor": 2
}
