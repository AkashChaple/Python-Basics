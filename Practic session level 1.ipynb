{
 "cells": [
  {
   "cell_type": "markdown",
   "metadata": {},
   "source": [
    "# Python List"
   ]
  },
  {
   "cell_type": "markdown",
   "metadata": {},
   "source": [
    "### 1. Create your own lists otherwise use the List1 = ['a','b','c']  to operate the below Python list  Operations?"
   ]
  },
  {
   "cell_type": "markdown",
   "metadata": {},
   "source": [
    "### 1. List Operations\n",
    "    A. Repetition (*)\n",
    "    B. Concatenation (+)\n",
    "    C. Membership\n",
    "    D. Length\n",
    "    E. Iteration"
   ]
  },
  {
   "cell_type": "markdown",
   "metadata": {},
   "source": [
    "##### 1.A. Repetition:"
   ]
  },
  {
   "cell_type": "code",
   "execution_count": 20,
   "metadata": {},
   "outputs": [
    {
     "data": {
      "text/plain": [
       "['a', 'b', 'c', 'a', 'b', 'c']"
      ]
     },
     "execution_count": 20,
     "metadata": {},
     "output_type": "execute_result"
    }
   ],
   "source": [
    "l=['a','b','c']\n",
    "a=l*2\n",
    "a"
   ]
  },
  {
   "cell_type": "markdown",
   "metadata": {},
   "source": [
    "#### 1.B. Concatenation (+):"
   ]
  },
  {
   "cell_type": "code",
   "execution_count": 19,
   "metadata": {},
   "outputs": [
    {
     "data": {
      "text/plain": [
       "['a', 'b', 'c', 'd', 'e', 'f']"
      ]
     },
     "execution_count": 19,
     "metadata": {},
     "output_type": "execute_result"
    }
   ],
   "source": [
    "l=['a','b','c']\n",
    "m=['d','e','f']\n",
    "a=l+m\n",
    "a"
   ]
  },
  {
   "cell_type": "markdown",
   "metadata": {},
   "source": [
    "#### 1.C. Membership:"
   ]
  },
  {
   "cell_type": "code",
   "execution_count": 5,
   "metadata": {},
   "outputs": [
    {
     "data": {
      "text/plain": [
       "True"
      ]
     },
     "execution_count": 5,
     "metadata": {},
     "output_type": "execute_result"
    }
   ],
   "source": [
    "l=['a','b','c']\n",
    "'c' in l"
   ]
  },
  {
   "cell_type": "markdown",
   "metadata": {},
   "source": [
    "#### 1.D. Length:"
   ]
  },
  {
   "cell_type": "code",
   "execution_count": 17,
   "metadata": {},
   "outputs": [
    {
     "data": {
      "text/plain": [
       "3"
      ]
     },
     "execution_count": 17,
     "metadata": {},
     "output_type": "execute_result"
    }
   ],
   "source": [
    "l=['a','b','c']\n",
    "len(l)"
   ]
  },
  {
   "cell_type": "markdown",
   "metadata": {},
   "source": [
    "#### 1.E. Iteration:"
   ]
  },
  {
   "cell_type": "code",
   "execution_count": 16,
   "metadata": {},
   "outputs": [
    {
     "name": "stdout",
     "output_type": "stream",
     "text": [
      "a\n",
      "b\n",
      "c\n"
     ]
    }
   ],
   "source": [
    "l=['a','b','c']\n",
    "d='\\n'.join(l)\n",
    "print(d)"
   ]
  },
  {
   "cell_type": "markdown",
   "metadata": {},
   "source": [
    "### 2.1. Create your own lists to operate the below Python List Built-in functions?\n",
    "##### otherwise use the\n",
    "            List1 = [1, 2, 4, 5, 54]\n",
    "            List2 = [23,54,789,9876,876,532,56]\n",
    "            List3 = [1, 2,76543,289,87654,33,456789876,5432,45678]"
   ]
  },
  {
   "cell_type": "markdown",
   "metadata": {},
   "source": [
    "    A.\tmax(list)\t   \n",
    "    B.\tmin(list)\t   \n",
    "    C.\tlist(seq)\t     "
   ]
  },
  {
   "cell_type": "markdown",
   "metadata": {},
   "source": [
    "#### 2.C. max(list):"
   ]
  },
  {
   "cell_type": "code",
   "execution_count": 15,
   "metadata": {},
   "outputs": [
    {
     "data": {
      "text/plain": [
       "54"
      ]
     },
     "execution_count": 15,
     "metadata": {},
     "output_type": "execute_result"
    }
   ],
   "source": [
    "L = [1, 2, 4, 5, 54]\n",
    "c=max(L)\n",
    "c\n"
   ]
  },
  {
   "cell_type": "markdown",
   "metadata": {},
   "source": [
    "#### 2.D. min():"
   ]
  },
  {
   "cell_type": "code",
   "execution_count": 14,
   "metadata": {},
   "outputs": [
    {
     "data": {
      "text/plain": [
       "1"
      ]
     },
     "execution_count": 14,
     "metadata": {},
     "output_type": "execute_result"
    }
   ],
   "source": [
    "L = [1, 2, 4, 5, 54]\n",
    "c=min(L)\n",
    "c"
   ]
  },
  {
   "cell_type": "markdown",
   "metadata": {},
   "source": [
    "#### 2.E.list:"
   ]
  },
  {
   "cell_type": "code",
   "execution_count": 2,
   "metadata": {},
   "outputs": [
    {
     "data": {
      "text/plain": [
       "[1, 4, 5, 9, 54]"
      ]
     },
     "execution_count": 2,
     "metadata": {},
     "output_type": "execute_result"
    }
   ],
   "source": [
    "L = [1, 9, 4, 5, 54]\n",
    "b=sorted(L)\n",
    "b"
   ]
  },
  {
   "cell_type": "markdown",
   "metadata": {},
   "source": [
    "### 3. Create your own lists to operate the below  thePython List built-in methods?\n",
    "##### otherwise use below list:\n",
    "           List = ['white','red', 'blue', 'green','blue','yellow', 'black']\n"
   ]
  },
  {
   "cell_type": "markdown",
   "metadata": {},
   "source": [
    "    A.\tlist.append()\n",
    "    B.\tlist.clear()\t \n",
    "    C.\tList.copy()\t           \n",
    "    D.\tlist.count()\t       \n",
    "    E.\tlist.extend()\t  \n",
    "    F.\tlist.index()\n",
    "    G.\tlist.insert()\t\n",
    "    H.\tlist.pop()\t\n",
    "    I.\tlist.remove()\t  \n",
    "    J.\tlist.reverse()\t        \n",
    "    K.\tlist.sort()\t  "
   ]
  },
  {
   "cell_type": "markdown",
   "metadata": {},
   "source": [
    "#### 3.A) append:"
   ]
  },
  {
   "cell_type": "code",
   "execution_count": 12,
   "metadata": {},
   "outputs": [
    {
     "name": "stdout",
     "output_type": "stream",
     "text": [
      "['white', 'red', 'blue', 'green', 'blue', 'yellow', 'black', 'akash']\n"
     ]
    }
   ],
   "source": [
    "L= ['white','red', 'blue', 'green','blue','yellow', 'black']\n",
    "L.append('akash')\n",
    "print(L)"
   ]
  },
  {
   "cell_type": "markdown",
   "metadata": {},
   "source": [
    "#### 3.B) list.clear():"
   ]
  },
  {
   "cell_type": "code",
   "execution_count": 11,
   "metadata": {},
   "outputs": [
    {
     "data": {
      "text/plain": [
       "[]"
      ]
     },
     "execution_count": 11,
     "metadata": {},
     "output_type": "execute_result"
    }
   ],
   "source": [
    "L= ['white','red', 'blue', 'green','blue','yellow', 'black']\n",
    "L.clear()\n",
    "L"
   ]
  },
  {
   "cell_type": "markdown",
   "metadata": {},
   "source": [
    "#### 3.C) List.copy()"
   ]
  },
  {
   "cell_type": "code",
   "execution_count": 10,
   "metadata": {},
   "outputs": [
    {
     "data": {
      "text/plain": [
       "['white', 'red', 'blue', 'green', 'blue', 'yellow', 'black']"
      ]
     },
     "execution_count": 10,
     "metadata": {},
     "output_type": "execute_result"
    }
   ],
   "source": [
    "L= ['white','red', 'blue', 'green','blue','yellow', 'black']\n",
    "L.copy()\n",
    "L"
   ]
  },
  {
   "cell_type": "markdown",
   "metadata": {},
   "source": [
    "#### 3. D) list.count(obj):"
   ]
  },
  {
   "cell_type": "code",
   "execution_count": 9,
   "metadata": {},
   "outputs": [
    {
     "data": {
      "text/plain": [
       "1"
      ]
     },
     "execution_count": 9,
     "metadata": {},
     "output_type": "execute_result"
    }
   ],
   "source": [
    "L= ['white','red', 'blue', 'green','blue','yellow', 'black']\n",
    "L.count('green')"
   ]
  },
  {
   "cell_type": "markdown",
   "metadata": {},
   "source": [
    "#### 3.E) list.extend(seq):"
   ]
  },
  {
   "cell_type": "code",
   "execution_count": 8,
   "metadata": {},
   "outputs": [
    {
     "data": {
      "text/plain": [
       "['white', 'red', 'blue', 'green', 'blue', 'yellow', 'black', 'akash', 'chaple']"
      ]
     },
     "execution_count": 8,
     "metadata": {},
     "output_type": "execute_result"
    }
   ],
   "source": [
    "L= ['white','red', 'blue', 'green','blue','yellow', 'black']\n",
    "a=['akash','chaple']\n",
    "L.extend(a)\n",
    "L"
   ]
  },
  {
   "cell_type": "markdown",
   "metadata": {},
   "source": [
    "#### 3.F) list.index(obj):"
   ]
  },
  {
   "cell_type": "code",
   "execution_count": 7,
   "metadata": {},
   "outputs": [
    {
     "data": {
      "text/plain": [
       "3"
      ]
     },
     "execution_count": 7,
     "metadata": {},
     "output_type": "execute_result"
    }
   ],
   "source": [
    "L= ['white','red', 'blue', 'green','blue','yellow', 'black']\n",
    "L.index('green')"
   ]
  },
  {
   "cell_type": "markdown",
   "metadata": {},
   "source": [
    "#### 3.G) list.insert(index, obj):"
   ]
  },
  {
   "cell_type": "code",
   "execution_count": 6,
   "metadata": {},
   "outputs": [
    {
     "data": {
      "text/plain": [
       "['white', 'red', 'akash', 'blue', 'green', 'blue', 'yellow', 'black']"
      ]
     },
     "execution_count": 6,
     "metadata": {},
     "output_type": "execute_result"
    }
   ],
   "source": [
    "L= ['white','red', 'blue', 'green','blue','yellow', 'black']\n",
    "L.insert(2,'akash')\n",
    "L"
   ]
  },
  {
   "cell_type": "markdown",
   "metadata": {},
   "source": [
    "#### 3.H) list.pop(obj=list[-1]):"
   ]
  },
  {
   "cell_type": "code",
   "execution_count": 5,
   "metadata": {},
   "outputs": [
    {
     "data": {
      "text/plain": [
       "['white', 'red', 'green', 'blue', 'yellow', 'black']"
      ]
     },
     "execution_count": 5,
     "metadata": {},
     "output_type": "execute_result"
    }
   ],
   "source": [
    "L= ['white','red', 'blue', 'green','blue','yellow', 'black']\n",
    "L.pop(2)\n",
    "L"
   ]
  },
  {
   "cell_type": "markdown",
   "metadata": {},
   "source": [
    "#### 3.I) list.remove(obj):"
   ]
  },
  {
   "cell_type": "code",
   "execution_count": 4,
   "metadata": {},
   "outputs": [
    {
     "data": {
      "text/plain": [
       "['white', 'blue', 'green', 'blue', 'yellow', 'black']"
      ]
     },
     "execution_count": 4,
     "metadata": {},
     "output_type": "execute_result"
    }
   ],
   "source": [
    "L= ['white','red', 'blue', 'green','blue','yellow', 'black']\n",
    "L.remove('red')\n",
    "L"
   ]
  },
  {
   "cell_type": "markdown",
   "metadata": {},
   "source": [
    "#### 3.j) list.reverse():"
   ]
  },
  {
   "cell_type": "code",
   "execution_count": 3,
   "metadata": {},
   "outputs": [
    {
     "data": {
      "text/plain": [
       "['black', 'yellow', 'blue', 'green', 'blue', 'red', 'white']"
      ]
     },
     "execution_count": 3,
     "metadata": {},
     "output_type": "execute_result"
    }
   ],
   "source": [
    "L= ['white','red', 'blue', 'green','blue','yellow', 'black']\n",
    "L.reverse()\n",
    "L"
   ]
  },
  {
   "cell_type": "markdown",
   "metadata": {},
   "source": [
    "#### 3.K) list.sort([func]):"
   ]
  },
  {
   "cell_type": "code",
   "execution_count": 4,
   "metadata": {},
   "outputs": [
    {
     "data": {
      "text/plain": [
       "[2, 5, 45, 96, 125]"
      ]
     },
     "execution_count": 4,
     "metadata": {},
     "output_type": "execute_result"
    }
   ],
   "source": [
    "L= [5,45,96,125,2]\n",
    "L.sort()\n",
    "L"
   ]
  },
  {
   "cell_type": "markdown",
   "metadata": {},
   "source": [
    "# Python Tuple"
   ]
  },
  {
   "cell_type": "markdown",
   "metadata": {},
   "source": [
    "### Create your own Tuple to operate the below Python tuple Operations ?\n",
    "##### otherwise use the\n",
    "                Tuple1 = ('white','red', 'blue', 'green','blue','yellow', 'black')\n",
    "                Tuple2 = (1,4,1,3,4,5,65)"
   ]
  },
  {
   "cell_type": "markdown",
   "metadata": {},
   "source": [
    "### 1. Tuple Operations\n",
    "    A. Repetition (*)\n",
    "    B. Concatenation (+)\n",
    "    C. Membership\n",
    "    D. Length\n",
    "    E. Iteration"
   ]
  },
  {
   "cell_type": "markdown",
   "metadata": {},
   "source": [
    "##### 1.A. Repetition:\n"
   ]
  },
  {
   "cell_type": "code",
   "execution_count": 23,
   "metadata": {},
   "outputs": [
    {
     "data": {
      "text/plain": [
       "(1, 4, 1, 3, 4, 5, 65, 1, 4, 1, 3, 4, 5, 65)"
      ]
     },
     "execution_count": 23,
     "metadata": {},
     "output_type": "execute_result"
    }
   ],
   "source": [
    "a = (1,4,1,3,4,5,65)\n",
    "c=a*2\n",
    "c"
   ]
  },
  {
   "cell_type": "markdown",
   "metadata": {},
   "source": [
    "#### 1.B. Concatenation (+):"
   ]
  },
  {
   "cell_type": "code",
   "execution_count": 26,
   "metadata": {},
   "outputs": [
    {
     "data": {
      "text/plain": [
       "(1, 4, 1, 3, 4, 5, 65, 45, 90)"
      ]
     },
     "execution_count": 26,
     "metadata": {},
     "output_type": "execute_result"
    }
   ],
   "source": [
    "b = (45,90)\n",
    "a= (1,4,1,3,4,5,65)\n",
    "c=(a+b)\n",
    "c"
   ]
  },
  {
   "cell_type": "markdown",
   "metadata": {},
   "source": [
    "#### 1.C) Membership:"
   ]
  },
  {
   "cell_type": "code",
   "execution_count": 28,
   "metadata": {},
   "outputs": [
    {
     "data": {
      "text/plain": [
       "True"
      ]
     },
     "execution_count": 28,
     "metadata": {},
     "output_type": "execute_result"
    }
   ],
   "source": [
    "a= (1,4,1,3,4,5,65)\n",
    "4 in a"
   ]
  },
  {
   "cell_type": "markdown",
   "metadata": {},
   "source": [
    "#### 1.D) Length:"
   ]
  },
  {
   "cell_type": "code",
   "execution_count": 29,
   "metadata": {},
   "outputs": [
    {
     "data": {
      "text/plain": [
       "7"
      ]
     },
     "execution_count": 29,
     "metadata": {},
     "output_type": "execute_result"
    }
   ],
   "source": [
    "a= (1,4,1,3,4,5,65)\n",
    "len(a)"
   ]
  },
  {
   "cell_type": "markdown",
   "metadata": {},
   "source": [
    "#### 1.E) Iteration:"
   ]
  },
  {
   "cell_type": "code",
   "execution_count": 30,
   "metadata": {},
   "outputs": [
    {
     "name": "stdout",
     "output_type": "stream",
     "text": [
      "1\n",
      "4\n",
      "1\n",
      "3\n",
      "4\n",
      "5\n",
      "65\n"
     ]
    }
   ],
   "source": [
    "a= (1,4,1,3,4,5,65)\n",
    "for i in a:\n",
    "    print(i)"
   ]
  },
  {
   "cell_type": "markdown",
   "metadata": {},
   "source": [
    "### 2.Create your own Tuple to operate the below Python tuple inbuilt functions ?\n",
    "##### otherwise use the\n",
    "            Tuple1 = (11,4,21,4,115,6,13,51,4,16,77,8,17,17,876,89,8765,14,51,11,876,9,3456,4234)\n",
    "         "
   ]
  },
  {
   "cell_type": "markdown",
   "metadata": {},
   "source": [
    "         A.\tmax(Tuple)\t   \n",
    "         B.\tmin(Tuple)\t    \n",
    "         C.\tTuple(seq)\t    "
   ]
  },
  {
   "cell_type": "markdown",
   "metadata": {},
   "source": [
    "#### 2.A) max():"
   ]
  },
  {
   "cell_type": "code",
   "execution_count": 31,
   "metadata": {},
   "outputs": [
    {
     "data": {
      "text/plain": [
       "65"
      ]
     },
     "execution_count": 31,
     "metadata": {},
     "output_type": "execute_result"
    }
   ],
   "source": [
    "a= (1,4,1,3,4,5,65)\n",
    "max(a)"
   ]
  },
  {
   "cell_type": "markdown",
   "metadata": {},
   "source": [
    "#### 2.D) min():"
   ]
  },
  {
   "cell_type": "code",
   "execution_count": 32,
   "metadata": {},
   "outputs": [
    {
     "data": {
      "text/plain": [
       "1"
      ]
     },
     "execution_count": 32,
     "metadata": {},
     "output_type": "execute_result"
    }
   ],
   "source": [
    "a= (1,4,1,3,4,5,65)\n",
    "min(a)"
   ]
  },
  {
   "cell_type": "markdown",
   "metadata": {},
   "source": [
    "#### 2.E) Tuple:"
   ]
  },
  {
   "cell_type": "code",
   "execution_count": 35,
   "metadata": {},
   "outputs": [
    {
     "data": {
      "text/plain": [
       "('a', 'k', 'a', 's', 'h')"
      ]
     },
     "execution_count": 35,
     "metadata": {},
     "output_type": "execute_result"
    }
   ],
   "source": [
    "a='akash' \n",
    "tuple(a)"
   ]
  },
  {
   "cell_type": "markdown",
   "metadata": {},
   "source": [
    "# Python Set"
   ]
  },
  {
   "cell_type": "code",
   "execution_count": null,
   "metadata": {},
   "outputs": [],
   "source": [
    "#### Create your own Set to operate the below Python Set Operations ?\n",
    "#### otherwise use the below set:\n",
    "        Set1 = {1,4,3,4,4,3,5,6,7,8,9,6,8,5,436,54,876,9876,87654,787654,56}\n",
    "        Set2 = {9,8,9,5,7,4,6,57,88,7654,8,876,678,8765,45,6789,8765,467,887,65}\n",
    "    "
   ]
  },
  {
   "cell_type": "markdown",
   "metadata": {},
   "source": [
    "### 1. Set Operations\n",
    "     A. Union \n",
    "     B. Intersection\n",
    "     C. Difference\n",
    "     D. Symmetric difference"
   ]
  },
  {
   "cell_type": "markdown",
   "metadata": {},
   "source": [
    "#### 1.A) Union:"
   ]
  },
  {
   "cell_type": "code",
   "execution_count": 37,
   "metadata": {},
   "outputs": [
    {
     "name": "stdout",
     "output_type": "stream",
     "text": [
      "{1, 3, 4, 5, 6, 7, 8, 9, 6789, 9876, 678, 45, 436, 54, 56, 57, 8765, 65, 787654, 467, 88, 87654, 7654, 876, 887}\n"
     ]
    }
   ],
   "source": [
    "s1 = {1,4,3,4,4,3,5,6,7,8,9,6,8,5,436,54,876,9876,87654,787654,56}\n",
    "s2= {9,8,9,5,7,4,6,57,88,7654,8,876,678,8765,45,6789,8765,467,887,65}\n",
    "c=s1|s2\n",
    "print(c)"
   ]
  },
  {
   "cell_type": "markdown",
   "metadata": {},
   "source": [
    "#### 1.B. Intersection"
   ]
  },
  {
   "cell_type": "code",
   "execution_count": 39,
   "metadata": {},
   "outputs": [
    {
     "name": "stdout",
     "output_type": "stream",
     "text": [
      "{4, 5, 6, 7, 8, 9, 876}\n"
     ]
    }
   ],
   "source": [
    "s1 = {1,4,3,4,4,3,5,6,7,8,9,6,8,5,436,54,876,9876,87654,787654,56}\n",
    "s2= {9,8,9,5,7,4,6,57,88,7654,8,876,678,8765,45,6789,8765,467,887,65}\n",
    "c=s1&s2\n",
    "print(c)"
   ]
  },
  {
   "cell_type": "markdown",
   "metadata": {},
   "source": [
    "#### 1.C. Difference"
   ]
  },
  {
   "cell_type": "code",
   "execution_count": 40,
   "metadata": {},
   "outputs": [
    {
     "name": "stdout",
     "output_type": "stream",
     "text": [
      "{1, 3, 787654, 87654, 436, 9876, 54, 56}\n"
     ]
    }
   ],
   "source": [
    "s1 = {1,4,3,4,4,3,5,6,7,8,9,6,8,5,436,54,876,9876,87654,787654,56}\n",
    "s2= {9,8,9,5,7,4,6,57,88,7654,8,876,678,8765,45,6789,8765,467,887,65}\n",
    "c=s1-s2\n",
    "print(c)"
   ]
  },
  {
   "cell_type": "markdown",
   "metadata": {},
   "source": [
    "####  1.D. Symmetric difference:"
   ]
  },
  {
   "cell_type": "code",
   "execution_count": 41,
   "metadata": {},
   "outputs": [
    {
     "name": "stdout",
     "output_type": "stream",
     "text": [
      "{65, 1, 3, 787654, 6789, 467, 9876, 88, 7654, 678, 87654, 45, 436, 54, 887, 56, 57, 8765}\n"
     ]
    }
   ],
   "source": [
    "s1 = {1,4,3,4,4,3,5,6,7,8,9,6,8,5,436,54,876,9876,87654,787654,56}\n",
    "s2= {9,8,9,5,7,4,6,57,88,7654,8,876,678,8765,45,6789,8765,467,887,65}\n",
    "c=s1^s2\n",
    "print(c)"
   ]
  },
  {
   "cell_type": "markdown",
   "metadata": {},
   "source": [
    "# Python Dictionary"
   ]
  },
  {
   "cell_type": "markdown",
   "metadata": {},
   "source": [
    "#### Create your own Dictionary to operate the below Python Built-in Dictionary functions\n",
    "#### otherwise use the below Dictionary:\n",
    "                           Dictionary = {'a': 'alpha', 'o': 'omega', 'g': 'gamma'}"
   ]
  },
  {
   "cell_type": "markdown",
   "metadata": {},
   "source": [
    "    A.\tlen(dict)     \n",
    "    B.\tstr(dict)     \n",
    "    C.\ttype(variable)"
   ]
  },
  {
   "cell_type": "markdown",
   "metadata": {},
   "source": [
    "#### 1.A) len(dict):"
   ]
  },
  {
   "cell_type": "code",
   "execution_count": 42,
   "metadata": {},
   "outputs": [
    {
     "data": {
      "text/plain": [
       "3"
      ]
     },
     "execution_count": 42,
     "metadata": {},
     "output_type": "execute_result"
    }
   ],
   "source": [
    "d = {'a': 'alpha', 'o': 'omega', 'g': 'gamma'}\n",
    "len(d)"
   ]
  },
  {
   "cell_type": "markdown",
   "metadata": {},
   "source": [
    "#### 2.B) str(dict):"
   ]
  },
  {
   "cell_type": "code",
   "execution_count": 44,
   "metadata": {},
   "outputs": [
    {
     "data": {
      "text/plain": [
       "\"{'a': 'alpha', 'o': 'omega', 'g': 'gamma'}\""
      ]
     },
     "execution_count": 44,
     "metadata": {},
     "output_type": "execute_result"
    }
   ],
   "source": [
    "d = {'a': 'alpha', 'o': 'omega', 'g': 'gamma'}\n",
    "str(d)"
   ]
  },
  {
   "cell_type": "markdown",
   "metadata": {},
   "source": [
    "#### 1.C) type(variable):"
   ]
  },
  {
   "cell_type": "code",
   "execution_count": 45,
   "metadata": {
    "scrolled": false
   },
   "outputs": [
    {
     "data": {
      "text/plain": [
       "dict"
      ]
     },
     "execution_count": 45,
     "metadata": {},
     "output_type": "execute_result"
    }
   ],
   "source": [
    "d = {'a': 'alpha', 'o': 'omega', 'g': 'gamma'}\n",
    "type(d)"
   ]
  },
  {
   "cell_type": "markdown",
   "metadata": {},
   "source": [
    "### 2.Create your own Dictionary to operate the below Python Built-in Dictionary methods\n",
    "#### otherwise use the below Dictionary:\n",
    "\n",
    "                            dictionaries = {'a': 'alpha', 'o': 'omega', 'g': 'gamma'}"
   ]
  },
  {
   "cell_type": "markdown",
   "metadata": {},
   "source": [
    "    A.\tdic.clear()\t\n",
    "    B.\tdict.copy()\t   \n",
    "    C.\tdict.fromkeys()\n",
    "    D.  dict.get(key[, value])    \t\n",
    "    E.\tdict.items()\t\n",
    "    F.\tdict.keys() \t\n",
    "    G.\tdict.setdefault()\t\n",
    "    H.\tdict.update()\t\n",
    "    I.\tdict.values()\t"
   ]
  },
  {
   "cell_type": "markdown",
   "metadata": {},
   "source": [
    "#### 2.A) dic.clear():"
   ]
  },
  {
   "cell_type": "code",
   "execution_count": 51,
   "metadata": {},
   "outputs": [
    {
     "data": {
      "text/plain": [
       "{}"
      ]
     },
     "execution_count": 51,
     "metadata": {},
     "output_type": "execute_result"
    }
   ],
   "source": [
    "d = {'a': 'alpha', 'o': 'omega', 'g': 'gamma'}\n",
    "d.clear()\n",
    "d"
   ]
  },
  {
   "cell_type": "markdown",
   "metadata": {},
   "source": [
    "#### 2.B) dict.copy():"
   ]
  },
  {
   "cell_type": "code",
   "execution_count": 52,
   "metadata": {},
   "outputs": [
    {
     "data": {
      "text/plain": [
       "{'a': 'alpha', 'o': 'omega', 'g': 'gamma'}"
      ]
     },
     "execution_count": 52,
     "metadata": {},
     "output_type": "execute_result"
    }
   ],
   "source": [
    "d = {'a': 'alpha', 'o': 'omega', 'g': 'gamma'}\n",
    "d.copy()\n",
    "d"
   ]
  },
  {
   "cell_type": "markdown",
   "metadata": {},
   "source": [
    "#### 2.C) dict.fromkeys():"
   ]
  },
  {
   "cell_type": "code",
   "execution_count": 6,
   "metadata": {},
   "outputs": [
    {
     "data": {
      "text/plain": [
       "{'akash': 'chaple', 'krushna': 'chaple'}"
      ]
     },
     "execution_count": 6,
     "metadata": {},
     "output_type": "execute_result"
    }
   ],
   "source": [
    "a=('akash','krushna')\n",
    "dict.fromkeys(a,'chaple')\n"
   ]
  },
  {
   "cell_type": "markdown",
   "metadata": {},
   "source": [
    "#### 2.D) dict.get(key[, value]) :"
   ]
  },
  {
   "cell_type": "code",
   "execution_count": 62,
   "metadata": {},
   "outputs": [
    {
     "name": "stdout",
     "output_type": "stream",
     "text": [
      "alpha\n",
      "omega\n",
      "gamma\n"
     ]
    }
   ],
   "source": [
    "d = {'a': 'alpha', 'o': 'omega', 'g': 'gamma'}\n",
    "print(d.get('a'))\n",
    "print(d.get('o'))\n",
    "print(d.get('g'))"
   ]
  },
  {
   "cell_type": "markdown",
   "metadata": {},
   "source": [
    "#### 2.E) dict.items()"
   ]
  },
  {
   "cell_type": "code",
   "execution_count": 65,
   "metadata": {},
   "outputs": [
    {
     "data": {
      "text/plain": [
       "dict_items([('a', 'alpha'), ('o', 'omega'), ('g', 'gamma')])"
      ]
     },
     "execution_count": 65,
     "metadata": {},
     "output_type": "execute_result"
    }
   ],
   "source": [
    "d = {'a': 'alpha', 'o': 'omega', 'g': 'gamma'}\n",
    "a=d.items()\n",
    "a"
   ]
  },
  {
   "cell_type": "markdown",
   "metadata": {},
   "source": [
    "#### 2.F) dict.keys() :"
   ]
  },
  {
   "cell_type": "code",
   "execution_count": 66,
   "metadata": {},
   "outputs": [
    {
     "data": {
      "text/plain": [
       "dict_keys(['a', 'o', 'g'])"
      ]
     },
     "execution_count": 66,
     "metadata": {},
     "output_type": "execute_result"
    }
   ],
   "source": [
    "d = {'a': 'alpha', 'o': 'omega', 'g': 'gamma'}\n",
    "a=d.keys()\n",
    "a"
   ]
  },
  {
   "cell_type": "markdown",
   "metadata": {},
   "source": [
    "#### 2.G) dict.setdefault():"
   ]
  },
  {
   "cell_type": "code",
   "execution_count": 70,
   "metadata": {},
   "outputs": [
    {
     "data": {
      "text/plain": [
       "{'a': 'alpha', 'o': 'omega', 'g': 'gamma', 'm': 'mega'}"
      ]
     },
     "execution_count": 70,
     "metadata": {},
     "output_type": "execute_result"
    }
   ],
   "source": [
    "d = {'a': 'alpha', 'o': 'omega', 'g': 'gamma'}\n",
    "a=d.setdefault('m','mega')\n",
    "d"
   ]
  },
  {
   "cell_type": "markdown",
   "metadata": {},
   "source": [
    "#### 2.H) dict.update():"
   ]
  },
  {
   "cell_type": "code",
   "execution_count": 71,
   "metadata": {},
   "outputs": [
    {
     "data": {
      "text/plain": [
       "{'a': 25, 'o': 'omega', 'g': 60}"
      ]
     },
     "execution_count": 71,
     "metadata": {},
     "output_type": "execute_result"
    }
   ],
   "source": [
    "d = {'a': 'alpha', 'o': 'omega', 'g': 'gamma'}\n",
    "b={'a':25,'g':60}\n",
    "d.update(b)\n",
    "d"
   ]
  },
  {
   "cell_type": "markdown",
   "metadata": {},
   "source": [
    " #### 2.L)  dict.values():"
   ]
  },
  {
   "cell_type": "code",
   "execution_count": 68,
   "metadata": {},
   "outputs": [
    {
     "data": {
      "text/plain": [
       "dict_values(['alpha', 'omega', 'gamma'])"
      ]
     },
     "execution_count": 68,
     "metadata": {},
     "output_type": "execute_result"
    }
   ],
   "source": [
    "d = {'a': 'alpha', 'o': 'omega', 'g': 'gamma'}\n",
    "a=d.values()\n",
    "a"
   ]
  },
  {
   "cell_type": "markdown",
   "metadata": {},
   "source": [
    "# Conditional Statements"
   ]
  },
  {
   "cell_type": "markdown",
   "metadata": {},
   "source": [
    "    1. IF \n",
    "    2. IF-ELSE\n",
    "    3. If...Elif...Else\n",
    "   "
   ]
  },
  {
   "cell_type": "markdown",
   "metadata": {},
   "source": [
    "#### 1. Store a number in a variable and check if that variable is equal to 10, If yes, print \"Hello\""
   ]
  },
  {
   "cell_type": "code",
   "execution_count": 74,
   "metadata": {},
   "outputs": [
    {
     "name": "stdout",
     "output_type": "stream",
     "text": [
      "enter number10\n",
      "Hello\n"
     ]
    }
   ],
   "source": [
    "a=int(input(\"enter number\"))\n",
    "if(a==10):\n",
    "    print('Hello')"
   ]
  },
  {
   "cell_type": "markdown",
   "metadata": {},
   "source": [
    "#### 2. Store a number in a variable and check if that variable is equal to 10, If yes, print \"Hello\", else print \"Good Bye\""
   ]
  },
  {
   "cell_type": "code",
   "execution_count": 75,
   "metadata": {},
   "outputs": [
    {
     "name": "stdout",
     "output_type": "stream",
     "text": [
      "enter naumber20\n",
      "good Bye\n"
     ]
    }
   ],
   "source": [
    "n=int(input('enter naumber'))\n",
    "if(n==10):\n",
    "    print(\"Hello\")\n",
    "else:\n",
    "    print(\"good Bye\")"
   ]
  },
  {
   "cell_type": "markdown",
   "metadata": {},
   "source": [
    "# While Loop"
   ]
  },
  {
   "cell_type": "markdown",
   "metadata": {},
   "source": [
    "#### 1. Print Hello World 5 times"
   ]
  },
  {
   "cell_type": "code",
   "execution_count": 76,
   "metadata": {},
   "outputs": [
    {
     "name": "stdout",
     "output_type": "stream",
     "text": [
      "hello\n",
      "hello\n",
      "hello\n",
      "hello\n",
      "hello\n"
     ]
    }
   ],
   "source": [
    "a=1\n",
    "while(a<=5):\n",
    "    print(\"hello\")\n",
    "    a+=1"
   ]
  },
  {
   "cell_type": "markdown",
   "metadata": {},
   "source": [
    "# For Loop"
   ]
  },
  {
   "cell_type": "markdown",
   "metadata": {},
   "source": [
    "#### 1. Take a list [23,1,0,12,45,-1,46], loop through each element and print it"
   ]
  },
  {
   "cell_type": "code",
   "execution_count": 77,
   "metadata": {},
   "outputs": [
    {
     "name": "stdout",
     "output_type": "stream",
     "text": [
      "23\n",
      "1\n",
      "0\n",
      "12\n",
      "45\n",
      "-1\n",
      "46\n"
     ]
    }
   ],
   "source": [
    "a= [23,1,0,12,45,-1,46]\n",
    "for i in a:\n",
    "    print(i)"
   ]
  },
  {
   "cell_type": "markdown",
   "metadata": {},
   "source": [
    "#### 2. Take a list [1,2,3,4,5,6,7,8], loop through each element and print it. But, use break to come out of the loop after printing the second element"
   ]
  },
  {
   "cell_type": "code",
   "execution_count": 114,
   "metadata": {},
   "outputs": [
    {
     "name": "stdout",
     "output_type": "stream",
     "text": [
      "1\n",
      "2\n"
     ]
    }
   ],
   "source": [
    "a=[1,2,3,4,5,6,7,8]\n",
    "for i in range(len(a)):\n",
    "    if(i<2):\n",
    "        print(a[i])\n",
    "    else: \n",
    "        break"
   ]
  },
  {
   "cell_type": "code",
   "execution_count": null,
   "metadata": {},
   "outputs": [],
   "source": []
  },
  {
   "cell_type": "code",
   "execution_count": null,
   "metadata": {},
   "outputs": [],
   "source": []
  }
 ],
 "metadata": {
  "kernelspec": {
   "display_name": "Python 3",
   "language": "python",
   "name": "python3"
  },
  "language_info": {
   "codemirror_mode": {
    "name": "ipython",
    "version": 3
   },
   "file_extension": ".py",
   "mimetype": "text/x-python",
   "name": "python",
   "nbconvert_exporter": "python",
   "pygments_lexer": "ipython3",
   "version": "3.7.3"
  }
 },
 "nbformat": 4,
 "nbformat_minor": 2
}
