{
 "cells": [
  {
   "cell_type": "markdown",
   "metadata": {},
   "source": [
    "#### 1.Write a Python function check the 3 is prime or not?"
   ]
  },
  {
   "cell_type": "code",
   "execution_count": 4,
   "metadata": {},
   "outputs": [
    {
     "name": "stdout",
     "output_type": "stream",
     "text": [
      "3 is prime no\n"
     ]
    }
   ],
   "source": [
    "def fun(a):\n",
    "    if(a>1):\n",
    "        for i in range(2,a):\n",
    "            if(a%i==0):\n",
    "                print(a,'is not prime no')\n",
    "            else:\n",
    "                print(a,'is prime no')\n",
    "    else:\n",
    "        print(a,'is not prime no')\n",
    "    \n",
    "fun(3)    "
   ]
  },
  {
   "cell_type": "markdown",
   "metadata": {},
   "source": [
    "#### 2.Write a Python function string = ASDBDSA is palindrome or not?"
   ]
  },
  {
   "cell_type": "code",
   "execution_count": 8,
   "metadata": {},
   "outputs": [
    {
     "name": "stdout",
     "output_type": "stream",
     "text": [
      "string is palindram\n"
     ]
    }
   ],
   "source": [
    "def fn(a):\n",
    "    if(a==a[::-1]):\n",
    "        print('string is palindram')\n",
    "    else:\n",
    "        print(\"string is not palindram\")\n",
    "        \n",
    "fn('ASDBDSA')        "
   ]
  },
  {
   "cell_type": "markdown",
   "metadata": {},
   "source": [
    "#### 3. Write a Python function Print 7 Pascal's triangle."
   ]
  },
  {
   "cell_type": "code",
   "execution_count": 51,
   "metadata": {},
   "outputs": [
    {
     "name": "stdout",
     "output_type": "stream",
     "text": [
      "enter numbe of row:4\n",
      "1\n",
      "212\n",
      "32123\n",
      "4321234\n"
     ]
    }
   ],
   "source": [
    "num=int(input(\"enter numbe of row:\"))\n",
    "for i in range(1,num+1):\n",
    "    for j in range(1,num-i+1):\n",
    "        print(\"\",end=\"\")\n",
    "    for j in range(i,0,-1):\n",
    "        print(j,end=\"\")\n",
    "    for j in range(2,i+1):\n",
    "        print(j,end=\"\")\n",
    "    print()   \n",
    "    "
   ]
  },
  {
   "cell_type": "markdown",
   "metadata": {},
   "source": [
    "#### 4. Write a Python function Print given range (1,10) print i**2?"
   ]
  },
  {
   "cell_type": "code",
   "execution_count": 6,
   "metadata": {},
   "outputs": [
    {
     "name": "stdout",
     "output_type": "stream",
     "text": [
      "[1, 4, 9, 16, 25, 36, 49, 64, 81]\n"
     ]
    }
   ],
   "source": [
    "d=[]\n",
    "def f1(a,b):\n",
    "    for i in range(a,b):\n",
    "        c=i**2\n",
    "        d.append(c)\n",
    "    print(d)\n",
    "    \n",
    "f1(1,10)    "
   ]
  },
  {
   "cell_type": "markdown",
   "metadata": {},
   "source": [
    "#### 5.Write a Python function to calculate the harmonic for number (4,9)"
   ]
  },
  {
   "cell_type": "code",
   "execution_count": 5,
   "metadata": {},
   "outputs": [
    {
     "name": "stdout",
     "output_type": "stream",
     "text": [
      "enter 1st no:5\n",
      "enter 2nd no:6\n",
      "hamrmonic means of 5 and 6 = 5.454545454545454\n"
     ]
    }
   ],
   "source": [
    "def a(a,b):\n",
    "    a=int(input(\"enter 1st no:\"))\n",
    "    b=int(input('enter 2nd no:'))\n",
    "    c=1/a\n",
    "    d=1/b\n",
    "    sum=c+d\n",
    "    hm=2/sum\n",
    "    print('hamrmonic means of',a,'and',b,'=',hm)    \n",
    "    \n",
    "    \n",
    "\n",
    "a(5,5)    "
   ]
  },
  {
   "cell_type": "markdown",
   "metadata": {},
   "source": [
    "#### 6.Write a Python function to calculate the geometric for number (4,9)"
   ]
  },
  {
   "cell_type": "code",
   "execution_count": 13,
   "metadata": {},
   "outputs": [
    {
     "name": "stdout",
     "output_type": "stream",
     "text": [
      "6.0\n"
     ]
    }
   ],
   "source": [
    "def a(a,b):\n",
    "    c=a*b\n",
    "    e=1/2\n",
    "    d=c**e\n",
    "    print(d)\n",
    "     \n",
    "        \n",
    "        \n",
    "a(4,9)    "
   ]
  },
  {
   "cell_type": "markdown",
   "metadata": {},
   "source": [
    "#### Types of arguments\n",
    "\n",
    "\n",
    "    1. Required arguments\n",
    "    2. Keyword arguments\n",
    "    3. Default arguments\n",
    "    4. Variable-length arguments"
   ]
  },
  {
   "cell_type": "code",
   "execution_count": null,
   "metadata": {},
   "outputs": [],
   "source": []
  },
  {
   "cell_type": "markdown",
   "metadata": {},
   "source": [
    "#### 1. Required arguments: (the function calculate returns the sum of two arguments a and b )"
   ]
  },
  {
   "cell_type": "code",
   "execution_count": 1,
   "metadata": {},
   "outputs": [
    {
     "name": "stdout",
     "output_type": "stream",
     "text": [
      "3\n"
     ]
    }
   ],
   "source": [
    "def a(a,b):\n",
    "    c=a+b\n",
    "    print(c)\n",
    "a(1,2)    "
   ]
  },
  {
   "cell_type": "markdown",
   "metadata": {},
   "source": [
    "#### 2.Keyword arguments:(The function simple_interest(p, t, r) is called with the keyword arguments)"
   ]
  },
  {
   "cell_type": "code",
   "execution_count": 3,
   "metadata": {},
   "outputs": [
    {
     "name": "stdout",
     "output_type": "stream",
     "text": [
      "0.24\n"
     ]
    }
   ],
   "source": [
    "def si(p,t,r):\n",
    "    si=p*t*r/100\n",
    "    print(si)\n",
    "si(2,3,4)    "
   ]
  },
  {
   "cell_type": "markdown",
   "metadata": {},
   "source": [
    "#### 3. Default arguments"
   ]
  },
  {
   "cell_type": "code",
   "execution_count": 4,
   "metadata": {},
   "outputs": [
    {
     "name": "stdout",
     "output_type": "stream",
     "text": [
      "61\n"
     ]
    }
   ],
   "source": [
    "def a(a,b=60):\n",
    "    c=a+b\n",
    "    print(c)\n",
    "a(1)    "
   ]
  },
  {
   "cell_type": "markdown",
   "metadata": {},
   "source": [
    "## lambda function"
   ]
  },
  {
   "cell_type": "markdown",
   "metadata": {},
   "source": [
    "###### 1. Write a map function to find if the given list = [15, 47, 122, 48, 54, 562, 80, 923, 173, 461]  is divisible by 16 output is boolean ?"
   ]
  },
  {
   "cell_type": "code",
   "execution_count": 1,
   "metadata": {},
   "outputs": [
    {
     "name": "stdout",
     "output_type": "stream",
     "text": [
      "[False, False, False, True, False, False, True, False, False, False]\n"
     ]
    }
   ],
   "source": [
    "a = [15, 47, 122, 48, 54, 562, 80, 923, 173, 461]\n",
    "print(list(map(lambda x:x%16==0,a)))"
   ]
  },
  {
   "cell_type": "markdown",
   "metadata": {},
   "source": [
    "###### 2. Use the map() function to calculate the cube of all numbers in the given list: lis1 = [2,4,5,6677,353,464]\n"
   ]
  },
  {
   "cell_type": "code",
   "execution_count": 2,
   "metadata": {},
   "outputs": [
    {
     "name": "stdout",
     "output_type": "stream",
     "text": [
      "[8, 64, 125, 297676210733, 43986977, 99897344]\n"
     ]
    }
   ],
   "source": [
    "l= [2,4,5,6677,353,464]\n",
    "print(list(map(lambda x:x**3,l)))"
   ]
  },
  {
   "cell_type": "markdown",
   "metadata": {},
   "source": [
    "#### 3.Create a list = [1,2,3,4,5] of lambdas in a for loop?"
   ]
  },
  {
   "cell_type": "code",
   "execution_count": 4,
   "metadata": {},
   "outputs": [
    {
     "ename": "SyntaxError",
     "evalue": "invalid syntax (<ipython-input-4-661cb08ce474>, line 1)",
     "output_type": "error",
     "traceback": [
      "\u001b[1;36m  File \u001b[1;32m\"<ipython-input-4-661cb08ce474>\"\u001b[1;36m, line \u001b[1;32m1\u001b[0m\n\u001b[1;33m    a=lambda x: for x in range(1,6)\u001b[0m\n\u001b[1;37m                  ^\u001b[0m\n\u001b[1;31mSyntaxError\u001b[0m\u001b[1;31m:\u001b[0m invalid syntax\n"
     ]
    }
   ],
   "source": [
    "a=lambda x: for x in range(1,6)\n",
    "print(a)"
   ]
  },
  {
   "cell_type": "code",
   "execution_count": null,
   "metadata": {},
   "outputs": [],
   "source": []
  }
 ],
 "metadata": {
  "kernelspec": {
   "display_name": "Python 3",
   "language": "python",
   "name": "python3"
  },
  "language_info": {
   "codemirror_mode": {
    "name": "ipython",
    "version": 3
   },
   "file_extension": ".py",
   "mimetype": "text/x-python",
   "name": "python",
   "nbconvert_exporter": "python",
   "pygments_lexer": "ipython3",
   "version": "3.7.4"
  }
 },
 "nbformat": 4,
 "nbformat_minor": 2
}
